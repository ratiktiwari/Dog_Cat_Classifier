{
 "cells": [
  {
   "cell_type": "markdown",
   "metadata": {
    "id": "3DR-eO17geWu"
   },
   "source": [
    "# Convolutional Neural Network"
   ]
  },
  {
   "cell_type": "code",
   "execution_count": 17,
   "metadata": {
    "executionInfo": {
     "elapsed": 969,
     "status": "ok",
     "timestamp": 1606461159193,
     "user": {
      "displayName": "ratik tiwari",
      "photoUrl": "https://lh3.googleusercontent.com/a-/AOh14GhQSIulCsHsn-266KjKjbi1-QBWLi6oSkCI1rCU=s64",
      "userId": "10145657819898086626"
     },
     "user_tz": -330
    },
    "id": "sCV30xyVhFbE"
   },
   "outputs": [],
   "source": [
    "import tensorflow as tf\n",
    "from keras.preprocessing.image import ImageDataGenerator"
   ]
  },
  {
   "cell_type": "code",
   "execution_count": 18,
   "metadata": {
    "colab": {
     "base_uri": "https://localhost:8080/",
     "height": 35
    },
    "executionInfo": {
     "elapsed": 794,
     "status": "ok",
     "timestamp": 1606461161676,
     "user": {
      "displayName": "ratik tiwari",
      "photoUrl": "https://lh3.googleusercontent.com/a-/AOh14GhQSIulCsHsn-266KjKjbi1-QBWLi6oSkCI1rCU=s64",
      "userId": "10145657819898086626"
     },
     "user_tz": -330
    },
    "id": "FIleuCAjoFD8",
    "outputId": "fb277d27-2b0b-45f2-a903-a77d83b69fa2"
   },
   "outputs": [
    {
     "data": {
      "application/vnd.google.colaboratory.intrinsic+json": {
       "type": "string"
      },
      "text/plain": [
       "'2.3.0'"
      ]
     },
     "execution_count": 18,
     "metadata": {
      "tags": []
     },
     "output_type": "execute_result"
    }
   ],
   "source": [
    "tf.__version__"
   ]
  },
  {
   "cell_type": "code",
   "execution_count": 69,
   "metadata": {
    "executionInfo": {
     "elapsed": 942,
     "status": "ok",
     "timestamp": 1606466323556,
     "user": {
      "displayName": "ratik tiwari",
      "photoUrl": "https://lh3.googleusercontent.com/a-/AOh14GhQSIulCsHsn-266KjKjbi1-QBWLi6oSkCI1rCU=s64",
      "userId": "10145657819898086626"
     },
     "user_tz": -330
    },
    "id": "SAUt4UMPlhLS"
   },
   "outputs": [],
   "source": [
    "cnn = tf.keras.models.Sequential()"
   ]
  },
  {
   "cell_type": "code",
   "execution_count": 70,
   "metadata": {
    "executionInfo": {
     "elapsed": 1539,
     "status": "ok",
     "timestamp": 1606466324170,
     "user": {
      "displayName": "ratik tiwari",
      "photoUrl": "https://lh3.googleusercontent.com/a-/AOh14GhQSIulCsHsn-266KjKjbi1-QBWLi6oSkCI1rCU=s64",
      "userId": "10145657819898086626"
     },
     "user_tz": -330
    },
    "id": "XPzPrMckl-hV"
   },
   "outputs": [],
   "source": [
    "cnn.add(tf.keras.layers.Conv2D(filters=64, kernel_size=3, activation='relu', input_shape=[128, 128, 3]))\n",
    "#for teano backend, input_shape = [3, 64, 64]\n",
    "#for tensorflow backend, input_shape = [64, 64, 3]\n",
    "#we are using tensorflow backend\n",
    "#in ANN we used Relu to activate neurons in the neural network\n",
    "#in Convolutional layer we are using Relu to just make sure that we don't have any negative pixel values in our feature maps\n",
    "#so this removal of negative pixels from our feature map ensures non-linearity in our CNN"
   ]
  },
  {
   "cell_type": "code",
   "execution_count": 71,
   "metadata": {
    "executionInfo": {
     "elapsed": 1533,
     "status": "ok",
     "timestamp": 1606466324175,
     "user": {
      "displayName": "ratik tiwari",
      "photoUrl": "https://lh3.googleusercontent.com/a-/AOh14GhQSIulCsHsn-266KjKjbi1-QBWLi6oSkCI1rCU=s64",
      "userId": "10145657819898086626"
     },
     "user_tz": -330
    },
    "id": "ncpqPl69mOac"
   },
   "outputs": [],
   "source": [
    "cnn.add(tf.keras.layers.MaxPool2D(pool_size=2, strides=2))"
   ]
  },
  {
   "cell_type": "code",
   "execution_count": 72,
   "metadata": {
    "executionInfo": {
     "elapsed": 1528,
     "status": "ok",
     "timestamp": 1606466324179,
     "user": {
      "displayName": "ratik tiwari",
      "photoUrl": "https://lh3.googleusercontent.com/a-/AOh14GhQSIulCsHsn-266KjKjbi1-QBWLi6oSkCI1rCU=s64",
      "userId": "10145657819898086626"
     },
     "user_tz": -330
    },
    "id": "i_-FZjn_m8gk"
   },
   "outputs": [],
   "source": [
    "cnn.add(tf.keras.layers.Conv2D(filters=64, kernel_size=3, activation='relu'))\n",
    "cnn.add(tf.keras.layers.MaxPool2D(pool_size=2, strides=2))"
   ]
  },
  {
   "cell_type": "code",
   "execution_count": 73,
   "metadata": {
    "executionInfo": {
     "elapsed": 1520,
     "status": "ok",
     "timestamp": 1606466324181,
     "user": {
      "displayName": "ratik tiwari",
      "photoUrl": "https://lh3.googleusercontent.com/a-/AOh14GhQSIulCsHsn-266KjKjbi1-QBWLi6oSkCI1rCU=s64",
      "userId": "10145657819898086626"
     },
     "user_tz": -330
    },
    "id": "6AZeOGCvnNZn"
   },
   "outputs": [],
   "source": [
    "cnn.add(tf.keras.layers.Flatten())"
   ]
  },
  {
   "cell_type": "code",
   "execution_count": 74,
   "metadata": {
    "executionInfo": {
     "elapsed": 2024,
     "status": "ok",
     "timestamp": 1606466324694,
     "user": {
      "displayName": "ratik tiwari",
      "photoUrl": "https://lh3.googleusercontent.com/a-/AOh14GhQSIulCsHsn-266KjKjbi1-QBWLi6oSkCI1rCU=s64",
      "userId": "10145657819898086626"
     },
     "user_tz": -330
    },
    "id": "8GtmUlLd26Nq"
   },
   "outputs": [],
   "source": [
    "cnn.add(tf.keras.layers.Dense(units=128, activation='relu'))\n",
    "cnn.add(tf.keras.layers.Dropout(0.2))\n",
    "cnn.add(tf.keras.layers.Dense(units=64, activation='relu'))"
   ]
  },
  {
   "cell_type": "code",
   "execution_count": 75,
   "metadata": {
    "executionInfo": {
     "elapsed": 2017,
     "status": "ok",
     "timestamp": 1606466324697,
     "user": {
      "displayName": "ratik tiwari",
      "photoUrl": "https://lh3.googleusercontent.com/a-/AOh14GhQSIulCsHsn-266KjKjbi1-QBWLi6oSkCI1rCU=s64",
      "userId": "10145657819898086626"
     },
     "user_tz": -330
    },
    "id": "1p_Zj1Mc3Ko_"
   },
   "outputs": [],
   "source": [
    "cnn.add(tf.keras.layers.Dense(units=1, activation='sigmoid'))"
   ]
  },
  {
   "cell_type": "code",
   "execution_count": 76,
   "metadata": {
    "executionInfo": {
     "elapsed": 2010,
     "status": "ok",
     "timestamp": 1606466324699,
     "user": {
      "displayName": "ratik tiwari",
      "photoUrl": "https://lh3.googleusercontent.com/a-/AOh14GhQSIulCsHsn-266KjKjbi1-QBWLi6oSkCI1rCU=s64",
      "userId": "10145657819898086626"
     },
     "user_tz": -330
    },
    "id": "NALksrNQpUlJ"
   },
   "outputs": [],
   "source": [
    "cnn.compile(optimizer = 'adam', loss = 'binary_crossentropy', metrics = ['accuracy'])"
   ]
  },
  {
   "cell_type": "code",
   "execution_count": 77,
   "metadata": {
    "colab": {
     "base_uri": "https://localhost:8080/"
    },
    "executionInfo": {
     "elapsed": 1999,
     "status": "ok",
     "timestamp": 1606466324701,
     "user": {
      "displayName": "ratik tiwari",
      "photoUrl": "https://lh3.googleusercontent.com/a-/AOh14GhQSIulCsHsn-266KjKjbi1-QBWLi6oSkCI1rCU=s64",
      "userId": "10145657819898086626"
     },
     "user_tz": -330
    },
    "id": "n2j3Wnt9Y_YV",
    "outputId": "192fe0b6-f4c5-4303-f394-7a3743ae676b"
   },
   "outputs": [
    {
     "name": "stdout",
     "output_type": "stream",
     "text": [
      "Found 8000 images belonging to 2 classes.\n"
     ]
    }
   ],
   "source": [
    "train_datagen = ImageDataGenerator(rescale = 1./255,\n",
    "                                   shear_range = 0.2,\n",
    "                                   zoom_range = 0.2,\n",
    "                                   horizontal_flip = True)\n",
    "training_set = train_datagen.flow_from_directory('/content/CNN/dataset/training_set',\n",
    "                                                 target_size = (128, 128),\n",
    "                                                 batch_size = 32,\n",
    "                                                 class_mode = 'binary')"
   ]
  },
  {
   "cell_type": "code",
   "execution_count": 78,
   "metadata": {
    "colab": {
     "base_uri": "https://localhost:8080/"
    },
    "executionInfo": {
     "elapsed": 1988,
     "status": "ok",
     "timestamp": 1606466324706,
     "user": {
      "displayName": "ratik tiwari",
      "photoUrl": "https://lh3.googleusercontent.com/a-/AOh14GhQSIulCsHsn-266KjKjbi1-QBWLi6oSkCI1rCU=s64",
      "userId": "10145657819898086626"
     },
     "user_tz": -330
    },
    "id": "F28rqlerY_YV",
    "outputId": "50a9e3f9-e71b-42c7-ddd9-95d8b643f76a"
   },
   "outputs": [
    {
     "name": "stdout",
     "output_type": "stream",
     "text": [
      "Found 2000 images belonging to 2 classes.\n"
     ]
    }
   ],
   "source": [
    "test_datagen = ImageDataGenerator(rescale = 1./255)\n",
    "test_set = test_datagen.flow_from_directory('/content/CNN/dataset/test_set',\n",
    "                                            target_size = (128, 128),\n",
    "                                            batch_size = 32,\n",
    "                                            class_mode = 'binary')"
   ]
  },
  {
   "cell_type": "code",
   "execution_count": 79,
   "metadata": {
    "colab": {
     "base_uri": "https://localhost:8080/"
    },
    "executionInfo": {
     "elapsed": 1342489,
     "status": "ok",
     "timestamp": 1606467665220,
     "user": {
      "displayName": "ratik tiwari",
      "photoUrl": "https://lh3.googleusercontent.com/a-/AOh14GhQSIulCsHsn-266KjKjbi1-QBWLi6oSkCI1rCU=s64",
      "userId": "10145657819898086626"
     },
     "user_tz": -330
    },
    "id": "XUj1W4PJptta",
    "outputId": "5a06969d-1f42-4a7c-838e-d86e059c1ea2"
   },
   "outputs": [
    {
     "name": "stdout",
     "output_type": "stream",
     "text": [
      "Epoch 1/25\n",
      "250/250 [==============================] - 54s 216ms/step - loss: 0.6884 - accuracy: 0.5509 - val_loss: 0.6577 - val_accuracy: 0.6320\n",
      "Epoch 2/25\n",
      "250/250 [==============================] - 53s 212ms/step - loss: 0.6499 - accuracy: 0.6273 - val_loss: 0.6429 - val_accuracy: 0.6570\n",
      "Epoch 3/25\n",
      "250/250 [==============================] - 53s 212ms/step - loss: 0.6286 - accuracy: 0.6570 - val_loss: 0.6050 - val_accuracy: 0.6850\n",
      "Epoch 4/25\n",
      "250/250 [==============================] - 53s 212ms/step - loss: 0.5990 - accuracy: 0.6906 - val_loss: 0.6092 - val_accuracy: 0.6970\n",
      "Epoch 5/25\n",
      "250/250 [==============================] - 53s 213ms/step - loss: 0.5773 - accuracy: 0.6984 - val_loss: 0.5548 - val_accuracy: 0.7240\n",
      "Epoch 6/25\n",
      "250/250 [==============================] - 53s 213ms/step - loss: 0.5387 - accuracy: 0.7355 - val_loss: 0.5539 - val_accuracy: 0.7240\n",
      "Epoch 7/25\n",
      "250/250 [==============================] - 54s 214ms/step - loss: 0.5258 - accuracy: 0.7394 - val_loss: 0.5300 - val_accuracy: 0.7400\n",
      "Epoch 8/25\n",
      "250/250 [==============================] - 53s 212ms/step - loss: 0.4922 - accuracy: 0.7638 - val_loss: 0.5110 - val_accuracy: 0.7595\n",
      "Epoch 9/25\n",
      "250/250 [==============================] - 53s 213ms/step - loss: 0.4694 - accuracy: 0.7764 - val_loss: 0.4923 - val_accuracy: 0.7745\n",
      "Epoch 10/25\n",
      "250/250 [==============================] - 53s 214ms/step - loss: 0.4475 - accuracy: 0.7915 - val_loss: 0.4954 - val_accuracy: 0.7770\n",
      "Epoch 11/25\n",
      "250/250 [==============================] - 53s 212ms/step - loss: 0.4187 - accuracy: 0.8102 - val_loss: 0.4756 - val_accuracy: 0.7880\n",
      "Epoch 12/25\n",
      "250/250 [==============================] - 53s 212ms/step - loss: 0.4109 - accuracy: 0.8145 - val_loss: 0.4852 - val_accuracy: 0.7985\n",
      "Epoch 13/25\n",
      "250/250 [==============================] - 54s 214ms/step - loss: 0.4008 - accuracy: 0.8116 - val_loss: 0.4735 - val_accuracy: 0.7935\n",
      "Epoch 14/25\n",
      "250/250 [==============================] - 53s 212ms/step - loss: 0.3683 - accuracy: 0.8340 - val_loss: 0.4841 - val_accuracy: 0.7940\n",
      "Epoch 15/25\n",
      "250/250 [==============================] - 54s 214ms/step - loss: 0.3589 - accuracy: 0.8443 - val_loss: 0.4685 - val_accuracy: 0.8040\n",
      "Epoch 16/25\n",
      "250/250 [==============================] - 54s 214ms/step - loss: 0.3470 - accuracy: 0.8434 - val_loss: 0.5121 - val_accuracy: 0.7900\n",
      "Epoch 17/25\n",
      "250/250 [==============================] - 53s 213ms/step - loss: 0.3243 - accuracy: 0.8561 - val_loss: 0.4616 - val_accuracy: 0.7980\n",
      "Epoch 18/25\n",
      "250/250 [==============================] - 54s 214ms/step - loss: 0.3264 - accuracy: 0.8530 - val_loss: 0.4671 - val_accuracy: 0.8025\n",
      "Epoch 19/25\n",
      "250/250 [==============================] - 54s 215ms/step - loss: 0.3078 - accuracy: 0.8716 - val_loss: 0.4928 - val_accuracy: 0.8035\n",
      "Epoch 20/25\n",
      "250/250 [==============================] - 53s 214ms/step - loss: 0.2875 - accuracy: 0.8765 - val_loss: 0.4947 - val_accuracy: 0.8060\n",
      "Epoch 21/25\n",
      "250/250 [==============================] - 53s 214ms/step - loss: 0.2822 - accuracy: 0.8802 - val_loss: 0.4980 - val_accuracy: 0.8065\n",
      "Epoch 22/25\n",
      "250/250 [==============================] - 53s 213ms/step - loss: 0.2606 - accuracy: 0.8917 - val_loss: 0.5078 - val_accuracy: 0.8080\n",
      "Epoch 23/25\n",
      "250/250 [==============================] - 53s 213ms/step - loss: 0.2472 - accuracy: 0.8963 - val_loss: 0.5725 - val_accuracy: 0.7875\n",
      "Epoch 24/25\n",
      "250/250 [==============================] - 54s 215ms/step - loss: 0.2432 - accuracy: 0.8957 - val_loss: 0.5152 - val_accuracy: 0.7995\n",
      "Epoch 25/25\n",
      "250/250 [==============================] - 54s 214ms/step - loss: 0.2287 - accuracy: 0.9086 - val_loss: 0.5317 - val_accuracy: 0.7980\n"
     ]
    },
    {
     "data": {
      "text/plain": [
       "<tensorflow.python.keras.callbacks.History at 0x7ff9005b7978>"
      ]
     },
     "execution_count": 79,
     "metadata": {
      "tags": []
     },
     "output_type": "execute_result"
    }
   ],
   "source": [
    "cnn.fit(x = training_set, validation_data = test_set, epochs = 25)"
   ]
  },
  {
   "cell_type": "code",
   "execution_count": 34,
   "metadata": {
    "executionInfo": {
     "elapsed": 968,
     "status": "ok",
     "timestamp": 1606462993289,
     "user": {
      "displayName": "ratik tiwari",
      "photoUrl": "https://lh3.googleusercontent.com/a-/AOh14GhQSIulCsHsn-266KjKjbi1-QBWLi6oSkCI1rCU=s64",
      "userId": "10145657819898086626"
     },
     "user_tz": -330
    },
    "id": "gsSiWEJY1BPB"
   },
   "outputs": [],
   "source": [
    "import numpy as np\n",
    "from keras.preprocessing import image\n",
    "test_image = image.load_img('/content/CNN/dataset/single_prediction/cat_or_dog_2.jpg', target_size = (64, 64))\n",
    "test_image = image.img_to_array(test_image)\n",
    "test_image = np.expand_dims(test_image, axis = 0)\n",
    "result = cnn.predict(test_image)\n",
    "training_set.class_indices\n",
    "if result[0][0] == 1:\n",
    "  prediction = 'dog'\n",
    "else:\n",
    "  prediction = 'cat'"
   ]
  },
  {
   "cell_type": "code",
   "execution_count": 35,
   "metadata": {
    "colab": {
     "base_uri": "https://localhost:8080/"
    },
    "executionInfo": {
     "elapsed": 1223,
     "status": "ok",
     "timestamp": 1606462997897,
     "user": {
      "displayName": "ratik tiwari",
      "photoUrl": "https://lh3.googleusercontent.com/a-/AOh14GhQSIulCsHsn-266KjKjbi1-QBWLi6oSkCI1rCU=s64",
      "userId": "10145657819898086626"
     },
     "user_tz": -330
    },
    "id": "ED9KB3I54c1i",
    "outputId": "5d5834c2-e9e6-483b-cce7-98e3f9c416d8"
   },
   "outputs": [
    {
     "name": "stdout",
     "output_type": "stream",
     "text": [
      "cat\n"
     ]
    }
   ],
   "source": [
    "print(prediction)"
   ]
  }
 ],
 "metadata": {
  "accelerator": "GPU",
  "colab": {
   "collapsed_sections": [],
   "name": "convolutional_neural_network.ipynb",
   "provenance": [],
   "toc_visible": true
  },
  "kernelspec": {
   "display_name": "Python 3",
   "language": "python",
   "name": "python3"
  },
  "language_info": {
   "codemirror_mode": {
    "name": "ipython",
    "version": 3
   },
   "file_extension": ".py",
   "mimetype": "text/x-python",
   "name": "python",
   "nbconvert_exporter": "python",
   "pygments_lexer": "ipython3",
   "version": "3.8.5"
  }
 },
 "nbformat": 4,
 "nbformat_minor": 1
}
